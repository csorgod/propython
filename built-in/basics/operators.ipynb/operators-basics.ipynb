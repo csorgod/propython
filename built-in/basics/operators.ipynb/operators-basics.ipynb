{
 "cells": [
  {
   "cell_type": "markdown",
   "source": [
    "# Operadores - O básico\r\n",
    "\r\n",
    "Referências:\r\n",
    "* Documentação oficial: <a href=\"https://docs.python.org/3/library/operator.html\" target=\"_blank\">operator — Standard operators as functions</a>\r\n",
    "* DevMedia: <a href=\"https://www.devmedia.com.br/operadores-no-python/40693\" target=\"_blank\">Operadores no python</a>\r\n",
    "* W3 Schools: <a href=\"https://www.w3schools.com/python/python_operators.asp\" target=\"_blank\">Python operators</a>\r\n",
    "* Real Python: <a href=\"https://realpython.com/python-operators-expressions/\" target=\"_blank\">Operators and Expressions in Python</a>\r\n",
    "\r\n",
    "Operadores são a base de qualquer operação matemática e, consequentemente, de qualquer linguagem de programação. Elas representam ações em cima de objetos e praticamente tudo que fazemos em python dependem deles. Dominar os operadores significa criar bons algoritmos, e por isso iremos entrar em detalhes nessa seção. Ao final dela, você será capaz de entender a diferença entre eles e usar tais operadores de forma eficaz."
   ],
   "metadata": {}
  },
  {
   "cell_type": "markdown",
   "source": [
    "## Tipos de operadores\r\n",
    "\r\n",
    "Em python, os operadores são agrupados por caracteristicas comuns. São eles:\r\n",
    "\r\n",
    "* Operadores aritméticos\r\n",
    "* Operadores de atribuição\r\n",
    "* Operadores de comparação\r\n",
    "* Operadores lógicos\r\n",
    "* Operadores de identidade\r\n",
    "* Operadores de associação\r\n",
    "\r\n",
    "Geralmente, você encontrará operadores em sua forma simplificada, mas é bom salientarmos que você poderá fazer o uso destes em forma de função a partir da classe [operator.py](https://docs.python.org/3/library/operator.html#module-operator). Vamos falar mais sobre essa forma ao final de cada sessão."
   ],
   "metadata": {}
  },
  {
   "cell_type": "markdown",
   "source": [
    "## Operadores aritméticos\r\n"
   ],
   "metadata": {}
  },
  {
   "cell_type": "markdown",
   "source": [
    "Os operadores aritméticos são utilizados na execução de operações matemáticas, como por exemplo soma, subtração, multiplicação, entre outros. Veja a tabela abaixo:\r\n",
    "\r\n",
    "<center><img src=\"../../../img/arithmetic_operators.png\"/></center>\r\n",
    "\r\n",
    "<center>Fonte: Dev Media</center>"
   ],
   "metadata": {}
  },
  {
   "cell_type": "markdown",
   "source": [
    "### Adição e concatenação"
   ],
   "metadata": {}
  },
  {
   "cell_type": "code",
   "execution_count": 17,
   "source": [
    "# Com números inteiros\r\n",
    "25 + 30"
   ],
   "outputs": [
    {
     "output_type": "execute_result",
     "data": {
      "text/plain": [
       "55"
      ]
     },
     "metadata": {},
     "execution_count": 17
    }
   ],
   "metadata": {}
  },
  {
   "cell_type": "code",
   "execution_count": 18,
   "source": [
    "# Com números decimais\r\n",
    "2.2 + 7.5"
   ],
   "outputs": [
    {
     "output_type": "execute_result",
     "data": {
      "text/plain": [
       "9.7"
      ]
     },
     "metadata": {},
     "execution_count": 18
    }
   ],
   "metadata": {}
  },
  {
   "cell_type": "code",
   "execution_count": 19,
   "source": [
    "# Com cadeias de caracteres (Strings)\r\n",
    "\"bat\" + \"man\""
   ],
   "outputs": [
    {
     "output_type": "execute_result",
     "data": {
      "text/plain": [
       "'batman'"
      ]
     },
     "metadata": {},
     "execution_count": 19
    }
   ],
   "metadata": {}
  },
  {
   "cell_type": "code",
   "execution_count": 20,
   "source": [
    "# Com combinação de sinais \r\n",
    "-7 + -10"
   ],
   "outputs": [
    {
     "output_type": "execute_result",
     "data": {
      "text/plain": [
       "-17"
      ]
     },
     "metadata": {},
     "execution_count": 20
    }
   ],
   "metadata": {}
  },
  {
   "cell_type": "markdown",
   "source": [
    "### Subtração"
   ],
   "metadata": {}
  },
  {
   "cell_type": "code",
   "execution_count": 21,
   "source": [
    "# Com números inteiros\r\n",
    "25 - 10"
   ],
   "outputs": [
    {
     "output_type": "execute_result",
     "data": {
      "text/plain": [
       "15"
      ]
     },
     "metadata": {},
     "execution_count": 21
    }
   ],
   "metadata": {}
  },
  {
   "cell_type": "code",
   "execution_count": 22,
   "source": [
    "# Com números decimais\r\n",
    "19.7 - 10.1"
   ],
   "outputs": [
    {
     "output_type": "execute_result",
     "data": {
      "text/plain": [
       "9.6"
      ]
     },
     "metadata": {},
     "execution_count": 22
    }
   ],
   "metadata": {}
  },
  {
   "cell_type": "code",
   "execution_count": 29,
   "source": [
    "# Com cadeias de caracteres (Strings)\r\n",
    "print(\"Não é possível subtrair uma string de outra com o operador (\\\"-\\\")\")"
   ],
   "outputs": [
    {
     "output_type": "stream",
     "name": "stdout",
     "text": [
      "Não é possível subtrair uma string de outra com o operador (\"-\")\n"
     ]
    }
   ],
   "metadata": {}
  },
  {
   "cell_type": "code",
   "execution_count": 32,
   "source": [
    "# Com combinação de sinais \r\n",
    "-4 - +10"
   ],
   "outputs": [
    {
     "output_type": "execute_result",
     "data": {
      "text/plain": [
       "-14"
      ]
     },
     "metadata": {},
     "execution_count": 32
    }
   ],
   "metadata": {}
  }
 ],
 "metadata": {
  "orig_nbformat": 4,
  "language_info": {
   "name": "python",
   "version": "3.8.6",
   "mimetype": "text/x-python",
   "codemirror_mode": {
    "name": "ipython",
    "version": 3
   },
   "pygments_lexer": "ipython3",
   "nbconvert_exporter": "python",
   "file_extension": ".py"
  },
  "kernelspec": {
   "name": "python3",
   "display_name": "Python 3.8.6 64-bit"
  },
  "interpreter": {
   "hash": "2f78c35c71ad4335fd7c2b8fe4b9826166c2f4fa33504421ee05b2877f1b1652"
  }
 },
 "nbformat": 4,
 "nbformat_minor": 2
}