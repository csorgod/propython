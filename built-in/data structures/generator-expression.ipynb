{
 "cells": [
  {
   "cell_type": "markdown",
   "source": [
    "# Generator Expression - Expressões geradoras\r\n",
    "\r\n",
    "Referencias:\r\n",
    "* PEP 289 - Generator Expressions: <a href=\"https://www.python.org/dev/peps/pep-0289/\" target=\"_blank\">Clique aqui</a>\r\n",
    "* Documentação oficial: <a href=\"https://docs.python.org/3/reference/expressions.html#generator-expressions\" target=\"_blank\">Clique aqui</a>\r\n",
    "* Python fluente - Programação clara, concisa e eficaz - O'REILLY / Luciano Ramalho - Página 50, Capítulo 2: \"Expressões geradoras\"\r\n",
    "\r\n",
    "Aqui você encontrará tudo que precisa saber a respeito de Expressões geradoras (conhecidas também como `genexps`, ou `Generator expressions`). Resumidamente, `genexps` são expressões capazes de gerar tuplas, arrays e outros tipos de sequência de forma performática baseadas em operadores lógicos. Ao final desse documento, você será capaz de reproduzir e entender expressões geradoras."
   ],
   "metadata": {}
  },
  {
   "cell_type": "markdown",
   "source": [],
   "metadata": {}
  }
 ],
 "metadata": {
  "orig_nbformat": 4,
  "language_info": {
   "name": "python"
  }
 },
 "nbformat": 4,
 "nbformat_minor": 2
}