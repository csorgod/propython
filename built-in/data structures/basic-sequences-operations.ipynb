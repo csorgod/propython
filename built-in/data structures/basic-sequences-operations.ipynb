{
 "cells": [
  {
   "cell_type": "markdown",
   "source": [],
   "metadata": {}
  },
  {
   "cell_type": "markdown",
   "source": [
    "## Métodos built-in\r\n",
    "Listas implementam todas as operações de **sequências comuns** e **mutáveis**, segundo a tabela abaixo. "
   ],
   "metadata": {}
  },
  {
   "cell_type": "markdown",
   "source": [
    "![Operações basicas de sequências](../../img/common_sequence_operations.png)"
   ],
   "metadata": {}
  },
  {
   "cell_type": "markdown",
   "source": [
    "### 1. `x in s` <br>\r\n",
    "`True` caso um item de s seja igual a x, caso contrário `False`"
   ],
   "metadata": {}
  },
  {
   "cell_type": "code",
   "execution_count": 1,
   "source": [
    "contains_py = \"Py\" in \"Python\"\r\n",
    "doesnt_contains_py = \"Py\" in \"Abacate\"\r\n",
    "\r\n",
    "print(contains_py, doesnt_contains_py)"
   ],
   "outputs": [
    {
     "output_type": "stream",
     "name": "stdout",
     "text": [
      "True False\n"
     ]
    }
   ],
   "metadata": {}
  },
  {
   "cell_type": "markdown",
   "source": [
    "Note que a condição é atendida respeitando princípios como Letras maiúsculas, acentos, etc:"
   ],
   "metadata": {}
  },
  {
   "cell_type": "code",
   "execution_count": 2,
   "source": [
    "\"Py\" in \"python\""
   ],
   "outputs": [
    {
     "output_type": "execute_result",
     "data": {
      "text/plain": [
       "False"
      ]
     },
     "metadata": {},
     "execution_count": 2
    }
   ],
   "metadata": {}
  },
  {
   "cell_type": "markdown",
   "source": [
    "### 2. `x not in s` <br>\r\n",
    "Similar ao caso anterior, porém acrescido de uma negação."
   ],
   "metadata": {}
  },
  {
   "cell_type": "code",
   "execution_count": 3,
   "source": [
    "contains_py = \"Py\" not in \"Python\"\r\n",
    "doesnt_contains_py = \"Py\" not in \"Abacate\"\r\n",
    "\r\n",
    "print(contains_py, doesnt_contains_py)"
   ],
   "outputs": [
    {
     "output_type": "stream",
     "name": "stdout",
     "text": [
      "False True\n"
     ]
    }
   ],
   "metadata": {}
  }
 ],
 "metadata": {
  "orig_nbformat": 4,
  "language_info": {
   "name": "python",
   "version": "3.8.6",
   "mimetype": "text/x-python",
   "codemirror_mode": {
    "name": "ipython",
    "version": 3
   },
   "pygments_lexer": "ipython3",
   "nbconvert_exporter": "python",
   "file_extension": ".py"
  },
  "kernelspec": {
   "name": "python3",
   "display_name": "Python 3.8.6 64-bit"
  },
  "interpreter": {
   "hash": "2f78c35c71ad4335fd7c2b8fe4b9826166c2f4fa33504421ee05b2877f1b1652"
  }
 },
 "nbformat": 4,
 "nbformat_minor": 2
}