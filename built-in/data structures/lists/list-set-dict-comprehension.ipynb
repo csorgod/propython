{
 "cells": [
  {
   "cell_type": "markdown",
   "source": [
    "# List comprehension\r\n",
    "\r\n",
    "Referencias:\r\n",
    "* Documentação oficial: <a href=\"https://docs.python.org/pt-br/3/tutorial/datastructures.html#list-comprehensions\" target=\"_blank\">Clique aqui</a>\r\n",
    "* Python fluente - Programação clara, concisa e eficaz - O'REILLY / Luciano Ramalho - Página 46, Capítulo 2: \"List comprehensions e expressões geradoras\"\r\n",
    "* Real Python - [List comprehensions in python](https://realpython.com/list-comprehension-python/#benefits-of-using-list-comprehensions)"
   ],
   "metadata": {}
  },
  {
   "cell_type": "markdown",
   "source": [
    "## O que são List comprehensions?\r\n",
    "\r\n"
   ],
   "metadata": {}
  },
  {
   "cell_type": "markdown",
   "source": [
    "Objetivamente, list comprehensions são formas elegantes de criar listas. Não apenas pelo seu jeito enxuto e direto ao ponto, mas também por geralmente serem mais performáticas. Existem diversas formas de resolver um problema, porém entre adotar uma solução simples e fácil de ler para uma complexa e cheia de linhas, obviamente vamos optar por utilizar a mais simples. <br>\r\n",
    "\r\n",
    "List comprehensions, muitas vezes, são chamadas de *listcomps*. Iremos usar aqui essa terminologia algumas vezes para te ambientarmos.\r\n",
    "\r\n",
    "Por mais que existam outros casos onde list comprehensions possam ser empregadas, não significa que sejam os ideais, ou como a comunidade costuma chamar, \"**Pythônico**\". Minha recomendação (e de alguns outros autores) é que você as utilize quando o objetivo é criar uma lista a partir de operações, e que essa lista seja utilizada posteriormente. Se sua list comprehension está grande de mais ou dificil de ler, provavelmente você exagerou no uso. Nesses casos, talvez usar uma abordagem tradicional seja a melhor solução, visualmente falando.\r\n",
    "\r\n",
    "Vamos ver um exemplo abaixo:"
   ],
   "metadata": {}
  },
  {
   "cell_type": "code",
   "execution_count": null,
   "source": [
    "codes = []\r\n",
    "for char in 'abacate':\r\n",
    "    codes.append(ord(char))\r\n",
    "codes"
   ],
   "outputs": [],
   "metadata": {}
  },
  {
   "cell_type": "code",
   "execution_count": null,
   "source": [
    "[ord(char) for char in 'abacate']"
   ],
   "outputs": [],
   "metadata": {}
  },
  {
   "cell_type": "markdown",
   "source": [
    "Os dois trechos de código fazem exatamente a mesma coisa, porém usando duas abordagens diferentes. Um novato em python talvez estranhe um pouco a sintaxe das listcomps, mas com o tempo entendemos cada etapa da criação de uma lista usando esse método e a implementação se torna natural. No meu ponto de vista, list comprehensions são mais simples de entender por adotar um modo **declarativo**. Ao invés de nos preocuparmos com como a lista deverá ser criada, nos preocupamos com o que deve ser feito, deixando a cargo do Python criar a lista para nós. "
   ],
   "metadata": {}
  },
  {
   "cell_type": "markdown",
   "source": [
    "Sobre velocidade, podemos ver que as duas execuções são quase, em questão de tempo de execução, idênticas. Há quem acredite que funções built-in como `map` e `filter` são mais rápidas, mas o Luciano Ramalho (Autor de Fluent Python) elaborou um teste simples com esse comparativo e deixou pronto para testarmos em seu [repósitório no github](https://github.com/fluentpython/example-code/blob/master/02-array-seq/listcomp_speed.py). Como estamos exercitando nossa curiosidade, vamos colocar aqui o comparativo para análise."
   ],
   "metadata": {}
  },
  {
   "cell_type": "code",
   "execution_count": 5,
   "source": [
    "import timeit\r\n",
    "\r\n",
    "TIMES = 10000\r\n",
    "\r\n",
    "SETUP = \"\"\"\r\n",
    "symbols = '$¢£¥€¤'\r\n",
    "def non_ascii(c):\r\n",
    "    return c > 127\r\n",
    "\"\"\"\r\n",
    "\r\n",
    "def clock(label, cmd):\r\n",
    "    res = timeit.repeat(cmd, setup=SETUP, number=TIMES)\r\n",
    "    print(label, *('{:.3f}'.format(x) for x in res))\r\n",
    "\r\n",
    "clock('listcomp        :', '[ord(s) for s in symbols if ord(s) > 127]')\r\n",
    "clock('listcomp + func :', '[ord(s) for s in symbols if non_ascii(ord(s))]')\r\n",
    "clock('filter + lambda :', 'list(filter(lambda c: c > 127, map(ord, symbols)))')\r\n",
    "clock('filter + func   :', 'list(filter(non_ascii, map(ord, symbols)))')"
   ],
   "outputs": [
    {
     "output_type": "stream",
     "name": "stdout",
     "text": [
      "listcomp        : 0.005 0.005 0.005 0.005 0.005\n",
      "listcomp + func : 0.008 0.008 0.008 0.008 0.008\n",
      "filter + lambda : 0.008 0.008 0.009 0.008 0.008\n",
      "filter + func   : 0.008 0.008 0.008 0.008 0.008\n"
     ]
    }
   ],
   "metadata": {}
  },
  {
   "cell_type": "markdown",
   "source": [
    "Deixamos as conclusões de qual é mais performático a seu critério, mas faço questão de reforçar que a **solução ideal depende do problema que você está tentando resolver**."
   ],
   "metadata": {}
  },
  {
   "cell_type": "markdown",
   "source": [
    "Vamos ver abaixo a estrutura de uma list comprehension:"
   ],
   "metadata": {}
  },
  {
   "cell_type": "markdown",
   "source": [
    "<center><img src=\"../../../img/list_comprehension_explained.png\"/></center>"
   ],
   "metadata": {}
  },
  {
   "cell_type": "markdown",
   "source": [
    "É claro que, assim como outros trechos de código, podemos combinar diversos operadores lógicos junto ao nosso gerador de listas.\r\n",
    "Por exemplo, se quisermos o resultado contanto que uma certa condição seja satisfeita, podemos ter:"
   ],
   "metadata": {}
  },
  {
   "cell_type": "code",
   "execution_count": null,
   "source": [
    "sentence = 'De repente, não mais que de repente, fez-se de triste o que se fez amante e de sozinho o que se fez contente' # Vinicius de Moraes\r\n",
    "[letter for letter in sentence if letter in 'aeiou']"
   ],
   "outputs": [],
   "metadata": {}
  },
  {
   "cell_type": "markdown",
   "source": [
    "Você pode optar por uma estrutura condicional mais forte em casos onde necessite substituir um valor ao invés de filtrá-lo, por exemplo. Nestes casos, você poderá mudar um pouco a declaração de sua list comprehension. Veja abaixo uma demonstração:"
   ],
   "metadata": {}
  },
  {
   "cell_type": "code",
   "execution_count": null,
   "source": [
    "sentence = 'Em perigos e guerras esforçados Mais do que prometia a força humana, e entre gente remota edificaram Novo Reino, que tanto sublimaram' # Luís Vaz de Camões\r\n",
    "[letter if letter in 'aeiou' else ' ' for letter in sentence]"
   ],
   "outputs": [],
   "metadata": {}
  },
  {
   "cell_type": "markdown",
   "source": [
    "Também é possível usarmos múltiplos operadores para realizarmos operações em cima de listas ou tuplas:"
   ],
   "metadata": {}
  },
  {
   "cell_type": "code",
   "execution_count": null,
   "source": [
    "list_a = [6, 7, 8, 9, 10]\r\n",
    "list_b = [1, 2, 3, 4, 5]\r\n",
    "\r\n",
    "[a - b for a, b in zip(list_a, list_b)]"
   ],
   "outputs": [],
   "metadata": {}
  },
  {
   "cell_type": "markdown",
   "source": [
    "## Set Comprehension"
   ],
   "metadata": {}
  },
  {
   "cell_type": "markdown",
   "source": [
    "Apesar de ser pouco utilizado, `set comprehensions` são aliadas poderosas e se assemelham muito com `listcomps` em sua forma declarativa. O propósito, no entanto, é garantir que não haja repetições no retorno. Declarativamente, sua forma difere de `list comprehensions` apenas por utilizar chaves (`{ }`) ao invés de colchetes (`[ ]`). "
   ],
   "metadata": {}
  },
  {
   "cell_type": "code",
   "execution_count": 4,
   "source": [
    "quote = \"Subi no onibus\"\r\n",
    "{i for i in quote if i in 'subino'}"
   ],
   "outputs": [
    {
     "output_type": "execute_result",
     "data": {
      "text/plain": [
       "{'b', 'i', 'n', 'o', 's', 'u'}"
      ]
     },
     "metadata": {},
     "execution_count": 4
    }
   ],
   "metadata": {}
  },
  {
   "cell_type": "markdown",
   "source": [
    "Diferente de `lists`, `sets` não garantem a ordem dos itens. É por isso que vemos *s* e *u* ao final da sequencia, ainda que sejam as duas primeiras letras avaliadas."
   ],
   "metadata": {}
  },
  {
   "cell_type": "markdown",
   "source": [
    "## Dictionary comprehensions\r\n"
   ],
   "metadata": {}
  }
 ],
 "metadata": {
  "orig_nbformat": 4,
  "language_info": {
   "name": "python",
   "version": "3.8.6",
   "mimetype": "text/x-python",
   "codemirror_mode": {
    "name": "ipython",
    "version": 3
   },
   "pygments_lexer": "ipython3",
   "nbconvert_exporter": "python",
   "file_extension": ".py"
  },
  "kernelspec": {
   "name": "python3",
   "display_name": "Python 3.8.6 64-bit"
  },
  "interpreter": {
   "hash": "2f78c35c71ad4335fd7c2b8fe4b9826166c2f4fa33504421ee05b2877f1b1652"
  }
 },
 "nbformat": 4,
 "nbformat_minor": 2
}