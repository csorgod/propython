{
 "cells": [
  {
   "cell_type": "markdown",
   "source": [
    "# Listas - O Básico\r\n",
    "\r\n",
    "Referencias:\r\n",
    "* Documentação oficial: <a href=\"https://docs.python.org/pt-br/3/library/stdtypes.html#lists\" target=\"_blank\">Clique aqui</a>\r\n",
    "* Python fluente - Programação clara, concisa e eficaz - O'REILLY / Luciano Ramalho - Página 44, Capítulo 2: \"Uma coleção de sequências\"\r\n",
    "\r\n",
    "Aqui você encontrará tudo que precisa saber a respeito de listas (`lists`) em python. Ao final desse documento, você será capaz de criar e modificar listas, além de manipulá-las através de funções nativas (`built-in`)."
   ],
   "metadata": {}
  },
  {
   "cell_type": "markdown",
   "source": [
    "## O que são listas?\r\n",
    "\r\n",
    "De forma geral, listas são estruturas de dados capazes de armazenar diferentes tipos de objetos. Listas são descritas em sua documentação oficial como *sequências*, assim como tuplas (`tuples`) e `ranges`. *Sequências* derivam diretamente da Abstract Base Class (ABC) <a href=\"https://docs.python.org/pt-br/3/library/collections.abc.html#collections.abc.Sequence\" target=\"_blank\">collections.abc.Sequence</a>. <br>\r\n",
    "\r\n",
    "As listas são categorizadas como *Sequências container*, cuja implementação armazena **referências** aos objetos contidos nela. Isso significa que, ao invés de armazenar os objetos fisicamente na memória, uma lista será composta de endereços de memória onde um ou mais objetos começam. <br>\r\n",
    "\r\n",
    "Listas são *sequências mutaveis*, o que significa que ela não assume uma **forma final** na implementação, possibilitando que seus itens internos sejam amplamente modificados, excluidos, adicionados ou movidos."
   ],
   "metadata": {}
  },
  {
   "cell_type": "markdown",
   "source": [
    "## Hierarquia de classes\r\n",
    "\r\n",
    "Antes de falarmos sobre a implementação de fato, devemos ter em mente a hierarquia de classes. Cada nível de herança nos trás novos métodos e, com eles, novas possibilidades. Devemos reparar que, por mais que estejamos falando de uma sequência (`sequence`), não há herança direta de nenhuma ABC. O que usualmente acontece é passar uma subclasse de `iterable` como parâmetro de `list`. Abaixo, vou mostrar como **sequencias mutaveis** herdam de ABCs para que entendamos de onde algumas funções built-in vem.\r\n",
    "\r\n",
    "<center><img src=\"../../../img/sequences_inheritance.png\"/></center>"
   ],
   "metadata": {}
  },
  {
   "cell_type": "markdown",
   "source": [
    "## Como implementar listas?\r\n",
    "\r\n",
    "Segundo a documentação oficial, existem quatro formas de declarar uma lista:\r\n",
    "\r\n",
    "* Usando um par de colchetes para denotar uma lista vazia: `[]`\r\n",
    "* Usando colchetes, separando itens por vírgulas: `[a], [a, b, c]`\r\n",
    "* Usando list comprehension: `[x for x in iterable]`\r\n",
    "* Usando o construtor de tipo: `list()` ou `list(iterable)`\r\n",
    "\r\n",
    "Vamos testar cada um dos métodos abaixo:"
   ],
   "metadata": {}
  },
  {
   "cell_type": "markdown",
   "source": [
    "### 1. Usando um par de colchetes"
   ],
   "metadata": {}
  },
  {
   "cell_type": "code",
   "execution_count": 9,
   "source": [
    "first_list = []\r\n",
    "type(first_list)"
   ],
   "outputs": [
    {
     "output_type": "execute_result",
     "data": {
      "text/plain": [
       "list"
      ]
     },
     "metadata": {},
     "execution_count": 9
    }
   ],
   "metadata": {}
  },
  {
   "cell_type": "markdown",
   "source": [
    "### 2. Usando colchetes, separando itens por vírgulas"
   ],
   "metadata": {}
  },
  {
   "cell_type": "code",
   "execution_count": 10,
   "source": [
    "second_list = [23, \"hello\", None]\r\n",
    "type(second_list)"
   ],
   "outputs": [
    {
     "output_type": "execute_result",
     "data": {
      "text/plain": [
       "list"
      ]
     },
     "metadata": {},
     "execution_count": 10
    }
   ],
   "metadata": {}
  },
  {
   "cell_type": "markdown",
   "source": [
    "### 3. Usando list comprehension\r\n",
    "\r\n",
    "Entraremos em detalhes em outro documento, nessa mesma sessão"
   ],
   "metadata": {}
  },
  {
   "cell_type": "code",
   "execution_count": 11,
   "source": [
    "third_list = [x + 1 for x in range(10)]\r\n",
    "type(third_list)"
   ],
   "outputs": [
    {
     "output_type": "execute_result",
     "data": {
      "text/plain": [
       "list"
      ]
     },
     "metadata": {},
     "execution_count": 11
    }
   ],
   "metadata": {}
  },
  {
   "cell_type": "markdown",
   "source": [
    "### 4. Usando o construtor de tipo\r\n",
    "\r\n",
    "iterable pode ser uma sequência, um contêiner que suporte iteração ou um objeto iterador."
   ],
   "metadata": {}
  },
  {
   "cell_type": "code",
   "execution_count": 12,
   "source": [
    "fourth_list = list()\r\n",
    "type(fourth_list)"
   ],
   "outputs": [
    {
     "output_type": "execute_result",
     "data": {
      "text/plain": [
       "list"
      ]
     },
     "metadata": {},
     "execution_count": 12
    }
   ],
   "metadata": {}
  },
  {
   "cell_type": "markdown",
   "source": [
    "## Métodos built-in\r\n",
    "Listas implementam todas as operações de **sequências comuns** e **mutáveis**, segundo a tabela abaixo. "
   ],
   "metadata": {}
  },
  {
   "cell_type": "markdown",
   "source": [
    "![Operações basicas de sequências](../../../img/common_sequence_operations.png)"
   ],
   "metadata": {}
  },
  {
   "cell_type": "markdown",
   "source": [
    "Você pode ver as operações na prática em \"*built-in/data structures/lists/basic-sequences-operations.ipynb.*\" <br>\r\n",
    "\r\n",
    "As listas também fornecem o seguinte método adicional:"
   ],
   "metadata": {}
  },
  {
   "cell_type": "markdown",
   "source": [
    "### `sort(*, key=None, reverse=False)`\r\n",
    "\r\n",
    "Sendo que `key` e `reverse` são argumentos **somente-nomeados**. Em outras palavras, você precisará declarar o nome do argumento que está querendo passar. O `*` declarado antes dos parametros é um detalhe de implementação de argumentos **somente-nomeados**, conforme diz a [documentação oficial](https://docs.python.org/pt-br/3/glossary.html#keyword-only-parameter).\r\n",
    "Esse método não suprime as exceções, o que significa que, em caso de falhas, você provavelmente terá uma lista parcialmente ordenada até o momento do erro. <br>\r\n",
    "Sobre os parâmetros:\r\n",
    "\r\n",
    "`key` especifica um critério a ser considerado na ordenação, como por exemplo `key = str.lower`. O valor padrão é `None`.\r\n",
    "\r\n",
    "`reverse`, quando `True`, ordena a lista ao contrário. O valor padrão é `False`."
   ],
   "metadata": {}
  },
  {
   "cell_type": "code",
   "execution_count": 13,
   "source": [
    "unordened_values = [58, 14, 3, 78, 124, 750]\r\n",
    "unordened_values.sort()\r\n",
    "unordened_values"
   ],
   "outputs": [
    {
     "output_type": "execute_result",
     "data": {
      "text/plain": [
       "[3, 14, 58, 78, 124, 750]"
      ]
     },
     "metadata": {},
     "execution_count": 13
    }
   ],
   "metadata": {}
  },
  {
   "cell_type": "markdown",
   "source": [
    "Além do método acima, que é uma função de `List`, existe a alternativa abaixo, que é uma [função embutida](https://docs.python.org/pt-br/3/library/functions.html#sorted)."
   ],
   "metadata": {}
  },
  {
   "cell_type": "code",
   "execution_count": 15,
   "source": [
    "sorted([58, 14, 3, 78, 124, 750])"
   ],
   "outputs": [
    {
     "output_type": "execute_result",
     "data": {
      "text/plain": [
       "[3, 14, 58, 78, 124, 750]"
      ]
     },
     "metadata": {},
     "execution_count": 15
    }
   ],
   "metadata": {}
  },
  {
   "cell_type": "markdown",
   "source": [
    "Essas classificações são consideradas **estáveis** por não alterar a ordem relativa dos valores. Isso significa que multiordenações são permitidas. Por exemplo, se quisermos classificar uma lista de alunos por altura e depois por peso, isso deverá ser possível."
   ],
   "metadata": {}
  },
  {
   "cell_type": "markdown",
   "source": [
    "## Esqueci de algo?\r\n",
    "\r\n",
    "### Se sentiu falta de algo nesse documento ou encontrou um erro, não hesite em comentar ou criar um merge request com correções seguindo as regras estabelecidas [aqui](https://github.com/csorgod/propython/blob/master/CONTRIBUTING.md)."
   ],
   "metadata": {}
  }
 ],
 "metadata": {
  "orig_nbformat": 4,
  "language_info": {
   "name": "python",
   "version": "3.8.5",
   "mimetype": "text/x-python",
   "codemirror_mode": {
    "name": "ipython",
    "version": 3
   },
   "pygments_lexer": "ipython3",
   "nbconvert_exporter": "python",
   "file_extension": ".py"
  },
  "kernelspec": {
   "name": "python3",
   "display_name": "Python 3.8.5 64-bit"
  },
  "interpreter": {
   "hash": "af573f283834de0d94267a2f349eb6a57bfc80fc16df6f4176b3eb1c7a5367fc"
  }
 },
 "nbformat": 4,
 "nbformat_minor": 2
}